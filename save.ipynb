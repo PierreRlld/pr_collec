{
 "cells": [
  {
   "cell_type": "code",
   "execution_count": 1,
   "metadata": {},
   "outputs": [],
   "source": [
    "import urllib\n",
    "import bs4\n",
    "import pandas as pd\n",
    "from urllib import request\n",
    "import re"
   ]
  },
  {
   "cell_type": "code",
   "execution_count": 3,
   "metadata": {},
   "outputs": [],
   "source": [
    "from urllib.request import Request, urlopen\n",
    "hdr={'User-agent':'Mozilla/5.0'}           # erreur corrigée : https://stackoverflow.com/questions/13055208/httperror-http-error-403-forbidden"
   ]
  },
  {
   "cell_type": "markdown",
   "metadata": {},
   "source": [
    "> nb de pages"
   ]
  },
  {
   "cell_type": "code",
   "execution_count": 4,
   "metadata": {},
   "outputs": [],
   "source": [
    "def nb_pages():\n",
    "    base_url=\"https://www.anime-planet.com/manga/all?page=1\"\n",
    "    base_request=urlopen(Request(base_url,headers=hdr))\n",
    "    base_page = bs4.BeautifulSoup(base_request, \"lxml\") #qui est bien une page html maintenant \n",
    "    \n",
    "    maxpage=0\n",
    "    page=base_page.find('ul',{\"class\":\"nav\"}).findAll('li')\n",
    "\n",
    "    for li in page:\n",
    "        try:\n",
    "            p=int(li.find('a').text)\n",
    "            maxpage=max(p,maxpage)\n",
    "        except:\n",
    "            pass\n",
    "    return maxpage"
   ]
  },
  {
   "cell_type": "markdown",
   "metadata": {},
   "source": [
    "> mangas/page"
   ]
  },
  {
   "cell_type": "code",
   "execution_count": 5,
   "metadata": {},
   "outputs": [],
   "source": [
    "def mangas_page(n):\n",
    "\n",
    "    base_url=\"https://www.anime-planet.com/manga/all?page=\"                         \n",
    "    base_request=urlopen(Request(base_url+str(n),headers=hdr))\n",
    "    base_page = bs4.BeautifulSoup(base_request, \"lxml\")  \n",
    "\n",
    "    mangas_list=[]\n",
    "    base_layer=base_page.find('ul',{\"class\":\"cardDeck cardGrid\"})   #on cherche 'ul' dont la classe est 'cardDeck cardGrid'\n",
    "    m_list_base=base_layer.findAll('li',{'data-type':\"manga\"})\n",
    "\n",
    "    for li in m_list_base:\n",
    "        mangas_list.append(li.find('h3').text)\n",
    "    return mangas_list"
   ]
  },
  {
   "cell_type": "code",
   "execution_count": 6,
   "metadata": {},
   "outputs": [],
   "source": [
    "def basepage(title):\n",
    "    title=title.replace(' ','-')\n",
    "    base_url=\"https://www.anime-planet.com/manga/\"\n",
    "    base_request=urlopen(Request(base_url+str(title),headers=hdr))\n",
    "    base_page = bs4.BeautifulSoup(base_request, \"lxml\")  \n",
    "    return base_page"
   ]
  },
  {
   "cell_type": "code",
   "execution_count": 7,
   "metadata": {},
   "outputs": [],
   "source": [
    "def features(title):\n",
    "    base_page=basepage(title)\n",
    "    feat={}\n",
    "\n",
    "    feat['scan']=base_page.find('div',{\"class\":\"pure-1 md-1-5\"}).text.replace('\\n','').split(';')[1].replace(' Ch: ','').replace('+','')\n",
    "    feat['synopsis']=base_page.find('div',{\"class\":'synopsisManga'}).text\n",
    "\n",
    "    staff=base_page.find('section',{'class':'EntryPage__content__section EntryPage__content__section__staff castaff'})\n",
    "    feat['author']=staff.find('strong',{'class':'CharacterCard__title rounded-card__title'}).text   # auteur toujours en 1er dans le staff\n",
    "\n",
    "    return feat"
   ]
  }
 ],
 "metadata": {
  "interpreter": {
   "hash": "06f709ef0d65556a4c268680c897d4e523db2699171fb7cef1ccdebc4f15d32f"
  },
  "kernelspec": {
   "display_name": "Python 3.9.5 64-bit",
   "language": "python",
   "name": "python3"
  },
  "language_info": {
   "codemirror_mode": {
    "name": "ipython",
    "version": 3
   },
   "file_extension": ".py",
   "mimetype": "text/x-python",
   "name": "python",
   "nbconvert_exporter": "python",
   "pygments_lexer": "ipython3",
   "version": "3.9.5"
  },
  "orig_nbformat": 4
 },
 "nbformat": 4,
 "nbformat_minor": 2
}
